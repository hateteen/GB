{
 "cells": [
  {
   "cell_type": "code",
   "execution_count": 2,
   "metadata": {},
   "outputs": [
    {
     "name": "stdout",
     "output_type": "stream",
     "text": [
      "1 2 3 4 5 6\n",
      "2 4 6 8 10 12 \n",
      "3 6 9 12 15 18 \n",
      "4 8 12 16 20 24 \n",
      "5 10 15 20 25 30 \n",
      "6 12 18 24 30 36 \n"
     ]
    }
   ],
   "source": [
    "# Задание_34\n",
    "\n",
    "# def count_vowels(word):\n",
    "#     vowels = \"aeiouy\"\n",
    "#     return len([letter for letter in word.lower() if letter in vowels])\n",
    "\n",
    "# def check_rhythm(speech):\n",
    "\n",
    "#     lines = speech.split()\n",
    "#     syllables = [count_vowels(word) for line in lines for word in line.split(\"-\")]\n",
    "#     if len(set(syllables)) == 1:\n",
    "#         return \"Парам пам-пам\"\n",
    "#     else:\n",
    "#         return \"Пам парам\"\n",
    "\n",
    "# poem = input(\"Введите стихотворение: \")\n",
    "# result = check_rhythm(poem)\n",
    "# print(result)\n",
    "\n",
    "\n",
    "# Задание_36\n",
    "\n",
    "# def print_operation_table(operation, num_rows=6, num_columns=6):\n",
    "\n",
    "#     print(end='\\t')\n",
    "#     for j in range(1, num_columns + 1):\n",
    "#         print(j, end='\\t')\n",
    "#     print()\n",
    "\n",
    "#     for i in range(1, num_rows + 1):\n",
    "#         print(i, end='\\t')\n",
    "#     for j in range(1, num_columns + 1):\n",
    "#         print(operation(i, j), end='\\t')\n",
    "# print()\n",
    "\n",
    "# def print_operation_table(operation, num_rows=6, num_columns=6):\n",
    "#     if num_rows < 2 or num_columns < 2: \n",
    "#         print('Ошибка размерности (должно быть > 2)')\n",
    "#     else:\n",
    "#         print(' '.join([str(i) for i in range(1, num_columns + 1)]))\n",
    "#         for i in range(2, num_rows + 1):\n",
    "#             print(i, end = ' ')\n",
    "#             for j in range(2, num_columns + 1):\n",
    "#                 print(operation(i, j), end = ' ')\n",
    "#             print()\n",
    "\n",
    "# print_operation_table(lambda x, y: x * y)"
   ]
  }
 ],
 "metadata": {
  "kernelspec": {
   "display_name": "Python 3",
   "language": "python",
   "name": "python3"
  },
  "language_info": {
   "codemirror_mode": {
    "name": "ipython",
    "version": 3
   },
   "file_extension": ".py",
   "mimetype": "text/x-python",
   "name": "python",
   "nbconvert_exporter": "python",
   "pygments_lexer": "ipython3",
   "version": "3.10.11"
  },
  "orig_nbformat": 4
 },
 "nbformat": 4,
 "nbformat_minor": 2
}
