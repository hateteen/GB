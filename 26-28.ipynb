{
 "cells": [
  {
   "cell_type": "code",
   "execution_count": 1,
   "metadata": {},
   "outputs": [
    {
     "name": "stdout",
     "output_type": "stream",
     "text": [
      "Сумма чисел 2 и 2 равна 4\n"
     ]
    }
   ],
   "source": [
    "# Задание_26\n",
    "\n",
    "# def power(a, b):\n",
    "#     if b == 0:\n",
    "#         return 1\n",
    "#     elif b % 2 == 0:\n",
    "#         return power(a*a, b//2)\n",
    "#     else:\n",
    "#         return a * power(a, b-1)\n",
    "\n",
    "# a = int(input(\"Введите число A: \"))\n",
    "# b = int(input(\"Введите степень B: \"))\n",
    "\n",
    "# result = power(a, b)\n",
    "# print(a, \"в степени\", b, \"равно\", result)\n",
    "\n",
    "\n",
    "# Задание_28\n",
    "\n",
    "# def sum(a, b):\n",
    "#     if b == 0:\n",
    "#         return a\n",
    "#     elif a == 0:\n",
    "#         return b\n",
    "#     elif a > b:\n",
    "#         return sum(a-1, b) + 1\n",
    "#     else:\n",
    "#         return sum(a, b-1) + 1\n",
    "\n",
    "# a = int(input(\"Введите первое число: \"))\n",
    "# b = int(input(\"Введите второе число: \"))\n",
    "\n",
    "# result = sum(a, b)\n",
    "# print(\"Сумма чисел\", a, \"и\", b, \"равна\", result)"
   ]
  }
 ],
 "metadata": {
  "kernelspec": {
   "display_name": "Python 3",
   "language": "python",
   "name": "python3"
  },
  "language_info": {
   "codemirror_mode": {
    "name": "ipython",
    "version": 3
   },
   "file_extension": ".py",
   "mimetype": "text/x-python",
   "name": "python",
   "nbconvert_exporter": "python",
   "pygments_lexer": "ipython3",
   "version": "3.10.11"
  },
  "orig_nbformat": 4
 },
 "nbformat": 4,
 "nbformat_minor": 2
}
