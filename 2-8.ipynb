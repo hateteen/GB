{
 "cells": [
  {
   "cell_type": "code",
   "execution_count": 28,
   "metadata": {},
   "outputs": [
    {
     "name": "stdout",
     "output_type": "stream",
     "text": [
      "Введите ширину\n",
      "Введите длину\n",
      "Введите количество кусочков\n",
      "No\n"
     ]
    }
   ],
   "source": [
    "#Задача_2\n",
    "\n",
    "#n = input(\"Введите трехзначное число: \")\n",
    "#n = int(n)\n",
    " \n",
    "#a = n % 10\n",
    "#b = n % 100 // 10\n",
    "##c = n // 100\n",
    " \n",
    "#print(\"Сумма цифр числа:\", a + b + c,(c,b,a))\n",
    "\n",
    "\n",
    "#Задача_4\n",
    "\n",
    "#print(\"Введите общее количество: \")\n",
    "#s = int(input())\n",
    "\n",
    "#a = s//6\n",
    "#b = a\n",
    "#c = (b+a)*2\n",
    "#print(a, c, b)\n",
    "\n",
    "\n",
    "#Задача_6\n",
    "\n",
    "#print(\"Введите номер билета (6 цифр)\")\n",
    "#s = str(input())\n",
    "#sum1=int(s[0])+int(s[1])+int(s[2])\n",
    "#sum2=int(s[3])+int(s[4])+int(s[5])\n",
    "#if sum1==sum2:\n",
    "#  print('Yes')\n",
    "#else:\n",
    "#  print('No')\n",
    "\n",
    "\n",
    "#Задача_8\n",
    "\n",
    "#print(\"Введите ширину\")\n",
    "#n = int(input())\n",
    "#print(\"Введите длину\")\n",
    "#m = int(input())\n",
    "#print(\"Введите количество кусочков\")\n",
    "#k = int(input())\n",
    "#if k < n * m and ((k % n == 0) or (k % m == 0)):\n",
    "#    print('Yes')\n",
    "#else:\n",
    "#    print('No')\n"
   ]
  }
 ],
 "metadata": {
  "kernelspec": {
   "display_name": "Python 3",
   "language": "python",
   "name": "python3"
  },
  "language_info": {
   "codemirror_mode": {
    "name": "ipython",
    "version": 3
   },
   "file_extension": ".py",
   "mimetype": "text/x-python",
   "name": "python",
   "nbconvert_exporter": "python",
   "pygments_lexer": "ipython3",
   "version": "3.10.10"
  },
  "orig_nbformat": 4
 },
 "nbformat": 4,
 "nbformat_minor": 2
}
