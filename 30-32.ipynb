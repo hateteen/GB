{
 "cells": [
  {
   "cell_type": "code",
   "execution_count": null,
   "metadata": {},
   "outputs": [],
   "source": [
    "# Задание_30\n",
    "\n",
    "# a1 = int(input(\"Введите первый элемент прогрессии: \"))\n",
    "# d = int(input(\"Введите разность прогрессии: \"))\n",
    "# n = int(input(\"Введите количество элементов прогрессии: \"))\n",
    "\n",
    "# progression = [] \n",
    "\n",
    "# for i in range(n):\n",
    "#     an = a1 + i * d \n",
    "# progression.append(an) \n",
    "\n",
    "# print(\"Элементы арифметической прогрессии:\")\n",
    "# for i in progression:\n",
    "#     print(i)\n",
    "\n",
    "\n",
    "# Задание_32\n",
    "\n",
    "# lst = [3, 5, 2, 8, 1, 9, 4, 6, 7]\n",
    "\n",
    "# min_val = 3\n",
    "# max_val = 6\n",
    "\n",
    "# indices = []\n",
    "\n",
    "# for i in range(len(lst)):\n",
    "#     if lst[i] >= min_val and lst[i] <= max_val:\n",
    "#         indices.append(i)\n",
    "\n",
    "# print(\"Индексы элементов, значения которых принадлежат диапазону [\", min_val, \",\", max_val, \"]:\")\n",
    "# print(indices)"
   ]
  }
 ],
 "metadata": {
  "kernelspec": {
   "display_name": "Python 3",
   "language": "python",
   "name": "python3"
  },
  "language_info": {
   "name": "python",
   "version": "3.10.11"
  },
  "orig_nbformat": 4
 },
 "nbformat": 4,
 "nbformat_minor": 2
}
