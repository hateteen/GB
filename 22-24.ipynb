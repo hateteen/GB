{
 "cells": [
  {
   "cell_type": "code",
   "execution_count": 9,
   "metadata": {},
   "outputs": [
    {
     "ename": "IndexError",
     "evalue": "list index out of range",
     "output_type": "error",
     "traceback": [
      "\u001b[1;31m---------------------------------------------------------------------------\u001b[0m",
      "\u001b[1;31mIndexError\u001b[0m                                Traceback (most recent call last)",
      "\u001b[1;32mUntitled-1.ipynb Ячейка 1\u001b[0m in \u001b[0;36m2\n\u001b[0;32m     <a href='vscode-notebook-cell:Untitled-1.ipynb?jupyter-notebook#W0sdW50aXRsZWQ%3D?line=18'>19</a>\u001b[0m max_berries \u001b[39m=\u001b[39m \u001b[39m0\u001b[39m\n\u001b[0;32m     <a href='vscode-notebook-cell:Untitled-1.ipynb?jupyter-notebook#W0sdW50aXRsZWQ%3D?line=20'>21</a>\u001b[0m \u001b[39mfor\u001b[39;00m i \u001b[39min\u001b[39;00m \u001b[39mrange\u001b[39m(n):\n\u001b[1;32m---> <a href='vscode-notebook-cell:Untitled-1.ipynb?jupyter-notebook#W0sdW50aXRsZWQ%3D?line=21'>22</a>\u001b[0m     curr_berries \u001b[39m=\u001b[39m berries[i] \u001b[39m+\u001b[39m berries[(i\u001b[39m+\u001b[39;49m\u001b[39m1\u001b[39;49m) \u001b[39m%\u001b[39;49m n] \u001b[39m+\u001b[39m berries[(i\u001b[39m+\u001b[39m\u001b[39m2\u001b[39m) \u001b[39m%\u001b[39m n]\n\u001b[0;32m     <a href='vscode-notebook-cell:Untitled-1.ipynb?jupyter-notebook#W0sdW50aXRsZWQ%3D?line=22'>23</a>\u001b[0m \u001b[39mif\u001b[39;00m curr_berries \u001b[39m>\u001b[39m max_berries:\n\u001b[0;32m     <a href='vscode-notebook-cell:Untitled-1.ipynb?jupyter-notebook#W0sdW50aXRsZWQ%3D?line=23'>24</a>\u001b[0m         max_berries \u001b[39m=\u001b[39m curr_berries\n",
      "\u001b[1;31mIndexError\u001b[0m: list index out of range"
     ]
    }
   ],
   "source": [
    "#Задание_22\n",
    "\n",
    "# n = int(input(\"Введите количество элементов первого множества: \"))\n",
    "# m = int(input(\"Введите количество элементов второго множества: \"))\n",
    "\n",
    "# set1 = set(int(input(\"Введите элемент первого множества: \")) for i in range(n))\n",
    "# set2 = set(int(input(\"Введите элемент второго множества: \")) for i in range(m))\n",
    "\n",
    "# common_elements = sorted(list(set1 & set2))\n",
    "\n",
    "# print(\"Общие элементы в порядке возрастания:\", common_elements)\n",
    "\n",
    "\n",
    "# Задание_24\n",
    "\n",
    "n = int(input(\"Введите количество кустов: \"))\n",
    "berries = list(map(int, input(\"Введите количество ягод на каждом кусте через пробел: \").split()))\n",
    "\n",
    "max_berries = 0\n",
    "\n",
    "for i in range(n):\n",
    "    curr_berries = berries[i] + berries[(i+1) % n] + berries[(i+2) % n]\n",
    "if curr_berries > max_berries:\n",
    "    max_berries = curr_berries\n",
    "\n",
    "print(\"Максимальное количество ягод за один заход собирающего модуля:\", max_berries)"
   ]
  }
 ],
 "metadata": {
  "kernelspec": {
   "display_name": "Python 3",
   "language": "python",
   "name": "python3"
  },
  "language_info": {
   "codemirror_mode": {
    "name": "ipython",
    "version": 3
   },
   "file_extension": ".py",
   "mimetype": "text/x-python",
   "name": "python",
   "nbconvert_exporter": "python",
   "pygments_lexer": "ipython3",
   "version": "3.10.11"
  },
  "orig_nbformat": 4
 },
 "nbformat": 4,
 "nbformat_minor": 2
}
