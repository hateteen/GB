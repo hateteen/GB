{
 "cells": [
  {
   "cell_type": "code",
   "execution_count": null,
   "metadata": {},
   "outputs": [],
   "source": [
    "#Задача_10\n",
    "\n",
    "#import random\n",
    "#from random import randint\n",
    "#аmount_coin = int(input('введите количество монет: '))\n",
    "#a = 0\n",
    "#b = 0\n",
    "#coins = [0, 1]\n",
    "#for i in range(аmount_coin):\n",
    "#    random.shuffle(coins)\n",
    "#    print(f'все монеты{coins}')\n",
    "#    if int(coins[0]) == 0:\n",
    "#        b += 1\n",
    "#    if int(coins[0]) == 1:\n",
    "#        a += 1\n",
    "#print(f'всего монет {a, b}')\n",
    "#if a > b:\n",
    "#    ans = b\n",
    "#else:\n",
    "#    ans = a\n",
    "#print(f\"минимальное количество монет, которые нужно перевернуть{ans}\")\n",
    "\n",
    "\n",
    "#Задача_12\n",
    "\n",
    "# a = int(input('Введите сумму чисел: '))\n",
    "# b = int(input('Введите произведение чисел: '))\n",
    "#\n",
    "# x = (a-int((a**2-4*b)**0.5))//2\n",
    "# f = a - c\n",
    "# if c<=1000 and d<=1000:\n",
    "#     print('Петя обманул')\n",
    "# print(f'числа задуманные Петей{c, d}')\n",
    "\n",
    "\n",
    "#Задача_14\n",
    "\n",
    "# N = int(input('Введите целое число больше 1: '))\n",
    "# k=1\n",
    "# while k<=N:\n",
    "#     print(k,end=' ')\n",
    "#     k=k*2"
   ]
  }
 ],
 "metadata": {
  "kernelspec": {
   "display_name": "Python 3",
   "language": "python",
   "name": "python3"
  },
  "language_info": {
   "name": "python",
   "version": "3.10.11"
  },
  "orig_nbformat": 4
 },
 "nbformat": 4,
 "nbformat_minor": 2
}
