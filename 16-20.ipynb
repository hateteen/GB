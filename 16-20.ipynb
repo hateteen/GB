{
 "cells": [
  {
   "cell_type": "code",
   "execution_count": 2,
   "metadata": {},
   "outputs": [
    {
     "name": "stdout",
     "output_type": "stream",
     "text": [
      "стоимость введенного русского слова = 12\n"
     ]
    }
   ],
   "source": [
    "#Задание_16\n",
    "\n",
    "#n = int(input())\n",
    "#a = map(int, input().split())\n",
    "#x = int(input())\n",
    "#print(sum(map(lambda z: int(z == x), a)))\n",
    "\n",
    "\n",
    "#Задание_18\n",
    "\n",
    "#N = int(input())\n",
    "#lst = map(int, (input().split()))\n",
    "#x = int(input())\n",
    "#print(min(lst, key=lambda a:abs(a-x)))\n",
    "\n",
    "\n",
    "#Задание_20\n",
    "\n",
    "#eng = 'qwertyuiopasdfghjklzxcvbnm'\n",
    "#rus = 'йцукенгшщзхъфывапролджэячсмитьбюё'\n",
    "#list_English = {1:'AEIOULNSTR', 2:'DG', 3:'BCMP',\n",
    "#                4:'FHVWY', 5:\"K\" , 8:'JX', 10:'QZ'}\n",
    "#list_Russian = {1:'АВЕИНОРСТ', 2:'ДКЛМПУ', 3:'БГЁЬЯ',\n",
    "#                4:'ЙЫ', 5:'ЖЗХЦЧ', 8:'ШЭЮ', 10:'ФШЪ'}\n",
    "#word = input('Введите слово на русском или английском языке: ')\n",
    "#if word[0].lower() in eng:\n",
    "#    summa = 0\n",
    "#    for letter in word:\n",
    "#        for key, value in list_English.items():\n",
    "#            if letter.upper() in value:\n",
    "#                summa += key\n",
    "#    print(f'Очков за слово = {summa}')\n",
    "#else:\n",
    "#    if word[0].lower() in rus:\n",
    "#        summa = 0\n",
    "#        for letter in word:\n",
    "#            for key, value in list_Russian.items():\n",
    "#             if letter.upper() in value:\n",
    "#                 summa += key\n",
    "# print(f'Очков за слово = {summa}')"
   ]
  }
 ],
 "metadata": {
  "kernelspec": {
   "display_name": "Python 3",
   "language": "python",
   "name": "python3"
  },
  "language_info": {
   "codemirror_mode": {
    "name": "ipython",
    "version": 3
   },
   "file_extension": ".py",
   "mimetype": "text/x-python",
   "name": "python",
   "nbconvert_exporter": "python",
   "pygments_lexer": "ipython3",
   "version": "3.10.11"
  },
  "orig_nbformat": 4
 },
 "nbformat": 4,
 "nbformat_minor": 2
}
